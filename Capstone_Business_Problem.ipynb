{
 "cells": [
  {
   "cell_type": "markdown",
   "metadata": {},
   "source": [
    "# Capstone Project - The Battle of the Neighborhoods (Week 1)"
   ]
  },
  {
   "cell_type": "markdown",
   "metadata": {},
   "source": [
    "\n",
    "## Business Problem"
   ]
  },
  {
   "cell_type": "markdown",
   "metadata": {},
   "source": [
    "Toronto is a pet friendly city. There are a lot of great outdoor spaces for dogs and over 50 off-leash areas across the city. The number of registered dogs in Toronto is around 80,000 which is approximately one third of total dogs in Toronto and it is continuously growing. And not only dogs, the number of cats and other pets is increasing. Overall, approximately 41% of households include at least one dog, and similarly around 37% include at least one cat according to Canadian Animal Health Institute. Pets need good veterinary care and there are many veterinary clinics in Toronto, but **there are areas in the city that have relatively small number of veterinary services compared to number of pets.**\n",
    "In this project we will try to find an **optimal location for a veterinary clinic**. This report will be targeted to stakeholders interested in opening **a veterinary clinic** in **Toronto**.\n",
    "\n",
    "We will try to find the **locations with no veterinary clinics or low number of veterinary services compared to number of pets.**\n",
    "\n",
    "Using data science, we will detect the best neighborhoods to open a veterinary clinic based on the above criteria. We will then explore and highlight advantages of few neighborhoods so that the stakeholders can choose the best location for the veterinary clinic."
   ]
  }
 ],
 "metadata": {
  "kernelspec": {
   "display_name": "Python 3",
   "language": "python",
   "name": "python3"
  },
  "language_info": {
   "codemirror_mode": {
    "name": "ipython",
    "version": 3
   },
   "file_extension": ".py",
   "mimetype": "text/x-python",
   "name": "python",
   "nbconvert_exporter": "python",
   "pygments_lexer": "ipython3",
   "version": "3.8.5"
  }
 },
 "nbformat": 4,
 "nbformat_minor": 4
}
